{
  "nbformat": 4,
  "nbformat_minor": 0,
  "metadata": {
    "colab": {
      "provenance": []
    },
    "kernelspec": {
      "name": "python3",
      "display_name": "Python 3"
    },
    "language_info": {
      "name": "python"
    }
  },
  "cells": [
    {
      "cell_type": "code",
      "execution_count": 2,
      "metadata": {
        "colab": {
          "base_uri": "https://localhost:8080/"
        },
        "id": "e-MGizHx5sdf",
        "outputId": "dee57eec-c8c8-45e9-e42e-a2930e53cb3d"
      },
      "outputs": [
        {
          "metadata": {
            "tags": null
          },
          "name": "stdout",
          "output_type": "stream",
          "text": [
            "Mounted at /content/drive\n"
          ]
        }
      ],
      "source": [
        "from google.colab import drive\n",
        "drive.mount('/content/drive')\n"
      ]
    },
    {
      "cell_type": "code",
      "source": [
        "import pandas as pd\n",
        "w_df = pd.read_csv('/content/drive/MyDrive/ColabNotebooks/weather_2012.csv')"
      ],
      "metadata": {
        "id": "aom4XcsB6P2o"
      },
      "execution_count": 19,
      "outputs": []
    },
    {
      "cell_type": "markdown",
      "source": [
        "Data transformation and Data cleaning\n"
      ],
      "metadata": {
        "id": "98PgXXJy6WvC"
      }
    },
    {
      "cell_type": "code",
      "source": [
        "Q1=w_df['Temp (C)'].quantile(0.25)\n",
        "Q3 = w_df['Temp (C)'].quantile(0.75)\n",
        "IQR = Q1-Q3\n",
        "lower_bound = Q1-1.5*IQR\n",
        "Upper_bound = Q3+1.5*IQR\n",
        "#Any temperature between 28.15 or -9.24 considered as outlier\n",
        "w_df['is_outliers'] = (w_df['Temp (C)']<lower_bound) | (w_df['Temp (C)']>28.15)\n",
        "#we can identify the outliers"
      ],
      "metadata": {
        "id": "zZVxpXAh6b_6"
      },
      "execution_count": 20,
      "outputs": []
    },
    {
      "cell_type": "markdown",
      "source": [
        "'''Filtering the data'''\n"
      ],
      "metadata": {
        "id": "TH6SdN4s6mWu"
      }
    },
    {
      "cell_type": "code",
      "source": [
        "#checking the temp between 10 and 25 , weather condition is cloudy or clear and windspeed is above 20\n",
        "df_filter= w_df[((w_df['Temp (C)']>10) & (w_df['Temp (C)']<25)) & ((w_df['Weather'] == \"Cloudy\") | (w_df['Weather'] == \"Clear\")) & (\n",
        "            w_df['Wind Spd (km/h)'] > 20)]"
      ],
      "metadata": {
        "id": "Y8x_A3CR6ppo"
      },
      "execution_count": 5,
      "outputs": []
    },
    {
      "cell_type": "code",
      "source": [
        "#filtering based on string contains rainy or snow using str.contains\n",
        "df_snow =w_df[w_df[\"Weather\"].str.contains('Rain|Snow')]"
      ],
      "metadata": {
        "id": "KpONDqpp6x8G"
      },
      "execution_count": 6,
      "outputs": []
    },
    {
      "cell_type": "markdown",
      "source": [
        "'''Date and time operations'''"
      ],
      "metadata": {
        "id": "bLZQtReO64rb"
      }
    },
    {
      "cell_type": "code",
      "source": [
        "w_df['Date/Time'] = pd.to_datetime(w_df['Date/Time']) #changed to datetime datatype\n",
        "w_df = w_df.set_index('Date/Time')\n"
      ],
      "metadata": {
        "id": "50RTKRwl65kQ"
      },
      "execution_count": 21,
      "outputs": []
    },
    {
      "cell_type": "code",
      "source": [
        "#caliculating average temp for every week\n",
        "df_resample = w_df.resample('W').agg({'Temp (C)':'mean'})\n",
        "df_resample"
      ],
      "metadata": {
        "id": "iNMoGP4o7FX2",
        "collapsed": true
      },
      "execution_count": null,
      "outputs": []
    },
    {
      "cell_type": "code",
      "source": [
        "df_avg_temp = w_df.resample('D').agg({'Temp (C)':'mean'})"
      ],
      "metadata": {
        "id": "5TWA0Bvv8J_1"
      },
      "execution_count": 23,
      "outputs": []
    },
    {
      "cell_type": "code",
      "source": [
        "#caliculating the daily temperature difference and adding it as new column\n",
        "df_daily_temp_diff = df_avg_temp.diff()\n",
        "w_df['temp_diff']=df_daily_temp_diff"
      ],
      "metadata": {
        "id": "BXmQ3itl_ml2"
      },
      "execution_count": 24,
      "outputs": []
    },
    {
      "cell_type": "code",
      "source": [
        "w_df = w_df.reset_index() #since in previous cell i set the datatime as index"
      ],
      "metadata": {
        "id": "Jx70DY2_CiVc"
      },
      "execution_count": 25,
      "outputs": []
    },
    {
      "cell_type": "markdown",
      "source": [
        "Grouping the data by weather condition and month"
      ],
      "metadata": {
        "id": "LnCMbTTkEubQ"
      }
    },
    {
      "cell_type": "code",
      "source": [
        "w_df[\"Month\"]=w_df['Date/Time'].dt.month"
      ],
      "metadata": {
        "id": "qQAuxdn9CjxA"
      },
      "execution_count": 26,
      "outputs": []
    },
    {
      "cell_type": "code",
      "source": [
        "w_df.groupby(['Weather','Month']).agg({'Temp (C)':'mean', 'Wind Spd (km/h)':'max'})"
      ],
      "metadata": {
        "id": "Wqflhdl1D5HE"
      },
      "execution_count": null,
      "outputs": []
    },
    {
      "cell_type": "markdown",
      "source": [
        "For each weather condition, calculate:\n",
        "\n",
        "The mean temperature, but only for days where the wind speed was below 15 km/h.\n",
        "The maximum temperature during rainy days."
      ],
      "metadata": {
        "id": "hv1jpJz2FRxZ"
      }
    },
    {
      "cell_type": "code",
      "source": [
        "w_df.rename(columns={'Wind Spd (km/h)':'Wind Spd'},inplace= True)#renaming for convience\n"
      ],
      "metadata": {
        "id": "oZ2ORjGUPV0W"
      },
      "execution_count": 29,
      "outputs": []
    },
    {
      "cell_type": "code",
      "source": [
        "def mean_temp(df):\n",
        "  return df[df['Wind Spd']<15]['Temp (C)'].mean()\n",
        "def max_temp(df):# using str.contain() because weather column have values like frezing rain,heavy rain so cannot ==\"rain\"\n",
        "  return df[df['Weather'].str.contains('Rain')]['Temp (C)'].max()"
      ],
      "metadata": {
        "id": "uSHjc5cL4t9I"
      },
      "execution_count": 49,
      "outputs": []
    },
    {
      "cell_type": "code",
      "source": [
        "w_df.groupby('Weather').apply(lambda x: (mean_temp(x), max_temp(x))) # Applying both functions together to each group"
      ],
      "metadata": {
        "collapsed": true,
        "id": "V2QyCtyb8GOg"
      },
      "execution_count": null,
      "outputs": []
    },
    {
      "cell_type": "markdown",
      "source": [
        "Merging and splitting dataframes"
      ],
      "metadata": {
        "id": "N7_dYYmBDf3c"
      }
    },
    {
      "cell_type": "markdown",
      "source": [
        "Spliting the dataframe by 6 months and joining"
      ],
      "metadata": {
        "id": "8aY-593uDoOL"
      }
    },
    {
      "cell_type": "code",
      "source": [
        "w_df['month']=w_df['Date/Time'].dt.month"
      ],
      "metadata": {
        "id": "KH5xJB2f-30M"
      },
      "execution_count": 58,
      "outputs": []
    },
    {
      "cell_type": "code",
      "source": [
        "df1 = w_df[w_df['month']<=6]\n",
        "df2= w_df[w_df['month']>6]"
      ],
      "metadata": {
        "id": "p4biALzOCQLT"
      },
      "execution_count": 61,
      "outputs": []
    },
    {
      "cell_type": "code",
      "source": [
        "new_df = pd.concat([df1,df2])\n",
        "new_df"
      ],
      "metadata": {
        "id": "Coq_WbtJCy5N"
      },
      "execution_count": null,
      "outputs": []
    },
    {
      "cell_type": "code",
      "source": [
        "df3 = w_df[w_df['Weather'].str.contains('Fog')]\n",
        "df3"
      ],
      "metadata": {
        "id": "1PZN8CT2Egoj"
      },
      "execution_count": null,
      "outputs": []
    },
    {
      "cell_type": "code",
      "source": [
        "new_df2 = pd.concat([w_df, df3]).drop_duplicates()\n",
        "new_df2"
      ],
      "metadata": {
        "id": "7fniynt1HHXe"
      },
      "execution_count": null,
      "outputs": []
    },
    {
      "cell_type": "code",
      "source": [
        "w_df.info()"
      ],
      "metadata": {
        "colab": {
          "base_uri": "https://localhost:8080/"
        },
        "id": "Yhr5ERiFMDTO",
        "outputId": "3eefa6e0-726a-46fb-dc4a-d9a7445b3aa4"
      },
      "execution_count": 92,
      "outputs": [
        {
          "output_type": "stream",
          "name": "stdout",
          "text": [
            "<class 'pandas.core.frame.DataFrame'>\n",
            "RangeIndex: 8784 entries, 0 to 8783\n",
            "Data columns (total 12 columns):\n",
            " #   Column              Non-Null Count  Dtype         \n",
            "---  ------              --------------  -----         \n",
            " 0   Date/Time           8784 non-null   datetime64[ns]\n",
            " 1   Temp (C)            8784 non-null   float64       \n",
            " 2   Dew Point Temp (C)  8784 non-null   float64       \n",
            " 3   Rel Hum (%)         8784 non-null   int64         \n",
            " 4   Wind Spd            8784 non-null   int64         \n",
            " 5   Visibility (km)     8784 non-null   float64       \n",
            " 6   Stn Press (kPa)     8784 non-null   float64       \n",
            " 7   Weather             8784 non-null   object        \n",
            " 8   is_outliers         8784 non-null   bool          \n",
            " 9   temp_diff           365 non-null    float64       \n",
            " 10  Month               8784 non-null   int32         \n",
            " 11  month               8784 non-null   int32         \n",
            "dtypes: bool(1), datetime64[ns](1), float64(5), int32(2), int64(2), object(1)\n",
            "memory usage: 695.0+ KB\n"
          ]
        }
      ]
    },
    {
      "cell_type": "markdown",
      "source": [
        "Rolling window and moving averages"
      ],
      "metadata": {
        "id": "VNYo87ffKY3s"
      }
    },
    {
      "cell_type": "code",
      "source": [
        "w_df_rolling = w_df['Temp (C)'].rolling(window=7).mean()# caliculating 7 day rolling average temp\n",
        "w_df_rolling.head(40)"
      ],
      "metadata": {
        "id": "ek8dYPJHIbv7"
      },
      "execution_count": null,
      "outputs": []
    },
    {
      "cell_type": "code",
      "source": [
        "w_df_std = w_df['Wind Spd'].rolling(window= 30).std()#caliculating 30 day rolling standard deviation of wind speed\n",
        "import matplotlib.pyplot as plt\n",
        "plt.plot(w_df_std)"
      ],
      "metadata": {
        "id": "WK6Al5DELpJ7"
      },
      "execution_count": null,
      "outputs": []
    },
    {
      "cell_type": "markdown",
      "source": [
        "Using pivot concept\n",
        "Creating a  pivot table that shows the average temperature for each weather condition, grouped by month.\n",
        "\n"
      ],
      "metadata": {
        "id": "L6E6bHxYMimC"
      }
    },
    {
      "cell_type": "code",
      "source": [
        "pivot_df = pd.pivot_table(w_df,\n",
        "values = 'Temp (C)',\n",
        "index = 'Date/Time',\n",
        "columns = 'Weather',\n",
        "aggfunc = 'mean'\n",
        "\n",
        ")\n",
        "pivot_df"
      ],
      "metadata": {
        "id": "7O6-grh3ML9D"
      },
      "execution_count": null,
      "outputs": []
    },
    {
      "cell_type": "code",
      "source": [
        "w_df['week'] = w_df['Date/Time'].dt.isocalendar().week"
      ],
      "metadata": {
        "id": "zdiEfor-POuP"
      },
      "execution_count": 105,
      "outputs": []
    },
    {
      "cell_type": "code",
      "source": [
        "pd.crosstab(w_df['Weather'],w_df['week']) #how frequently each weather condition occurred on each day of the week."
      ],
      "metadata": {
        "id": "MfBS02b-OpiX"
      },
      "execution_count": null,
      "outputs": []
    }
  ]
}